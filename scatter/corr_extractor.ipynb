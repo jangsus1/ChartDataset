{
 "cells": [
  {
   "cell_type": "code",
   "execution_count": 2,
   "metadata": {},
   "outputs": [],
   "source": [
    "import scipy.io\n",
    "import numpy as np\n",
    "import pandas as pd\n",
    "\n",
    "# Function to extract data and compute correlations\n",
    "def process_scatters(file_path, scatter_type):\n",
    "    # Load .mat file\n",
    "    mat_contents = scipy.io.loadmat(file_path)\n",
    "    \n",
    "    # Extract structure\n",
    "    scatters = mat_contents.get(scatter_type)\n",
    "    \n",
    "    if scatters is not None and isinstance(scatters, np.ndarray):\n",
    "        scatters = scatters[0, 0]  # Unpack MATLAB struct\n",
    "        \n",
    "        x = scatters['x'].flatten()  # Extract x values (20,)\n",
    "        ys = scatters['ys']  # Shape (10,10,20) -> [corr_levels, experiments, points]\n",
    "        target_corr_values = scatters['target_corr_values'].flatten()  # (10,)\n",
    "        corr_values = scatters['corr_values']  # (10,10)\n",
    "\n",
    "        # Store results\n",
    "        data_list = []\n",
    "        for c in range(len(target_corr_values)):  # Loop over correlation levels\n",
    "            for exp in range(ys.shape[1]):  # Loop over experiments\n",
    "                y_values = ys[c, exp, :].flatten()  # Extract y values for (c, exp)\n",
    "                computed_corr = np.corrcoef(x, y_values)[0, 1]  # Compute correlation\n",
    "\n",
    "                # Append data\n",
    "                data_list.append({\n",
    "                    \"scatter_type\": scatter_type[:3],\n",
    "                    \"corr_target\": target_corr_values[c],\n",
    "                    \"corr_computed\": computed_corr,\n",
    "                    \"exp\": exp,\n",
    "                    \"corr\": c\n",
    "                })\n",
    "\n",
    "        # Convert to DataFrame\n",
    "        df = pd.DataFrame(data_list)\n",
    "        return df\n",
    "    else:\n",
    "        return None\n",
    "\n",
    "# Process both files\n",
    "pos_df = process_scatters(\"pos_scatters.mat\", \"pos_scatters\")\n",
    "neg_df = process_scatters(\"neg_scatters.mat\", \"neg_scatters\")\n",
    "\n",
    "# Combine data from both files\n",
    "combined_df = pd.concat([pos_df, neg_df], ignore_index=True)\n",
    "\n",
    "# Save to CSV\n",
    "combined_df.to_csv(\"scatters.csv\", index=False)"
   ]
  },
  {
   "cell_type": "code",
   "execution_count": null,
   "metadata": {},
   "outputs": [],
   "source": []
  },
  {
   "cell_type": "code",
   "execution_count": null,
   "metadata": {},
   "outputs": [],
   "source": []
  },
  {
   "cell_type": "code",
   "execution_count": null,
   "metadata": {},
   "outputs": [],
   "source": []
  }
 ],
 "metadata": {
  "kernelspec": {
   "display_name": ".env",
   "language": "python",
   "name": "python3"
  },
  "language_info": {
   "codemirror_mode": {
    "name": "ipython",
    "version": 3
   },
   "file_extension": ".py",
   "mimetype": "text/x-python",
   "name": "python",
   "nbconvert_exporter": "python",
   "pygments_lexer": "ipython3",
   "version": "3.11.10"
  }
 },
 "nbformat": 4,
 "nbformat_minor": 2
}
