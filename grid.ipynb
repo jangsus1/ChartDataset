{
 "cells": [
  {
   "cell_type": "code",
   "execution_count": 8,
   "metadata": {},
   "outputs": [
    {
     "name": "stderr",
     "output_type": "stream",
     "text": [
      "100%|██████████| 3000/3000 [00:18<00:00, 166.55it/s]\n"
     ]
    }
   ],
   "source": [
    "import cv2\n",
    "import numpy as np\n",
    "from glob import glob\n",
    "from tqdm import tqdm\n",
    "\n",
    "# Function to process the image and grid it\n",
    "def draw_grid_with_labels(image_path, grid_size=128):\n",
    "    # Load the image\n",
    "    image = cv2.imread(image_path)\n",
    "    if image is None:\n",
    "        raise ValueError(\"Image not found. Please check the image path.\")\n",
    "\n",
    "    # Get image dimensions\n",
    "    height, width, _ = image.shape\n",
    "\n",
    "    # Calculate number of rows and columns\n",
    "    rows = int(np.ceil(height / grid_size))\n",
    "    cols = int(np.ceil(width / grid_size))\n",
    "\n",
    "    # Define font properties\n",
    "    font = cv2.FONT_HERSHEY_SIMPLEX\n",
    "    font_scale = 0.7\n",
    "    thickness = 2\n",
    "    color = (0, 0, 255)  # Red color for text and grid lines\n",
    "    text_color = (0, 0, 255)  # Red color for text\n",
    "    outline_color = (255, 255, 255)  # White color for text outline\n",
    "\n",
    "    # Draw the grid and add labels\n",
    "    for row in range(rows):\n",
    "        for col in range(cols):\n",
    "            # Coordinates for the current cell\n",
    "            x1, y1 = col * grid_size, row * grid_size\n",
    "            x2, y2 = x1 + grid_size, y1 + grid_size\n",
    "\n",
    "            # Draw the rectangle\n",
    "            cv2.rectangle(image, (x1, y1), (x2, y2), text_color, 2)\n",
    "\n",
    "            # Generate cell label (e.g., A1, B2)\n",
    "            label = f\"{chr(65 + row)}{col + 1}\"\n",
    "\n",
    "            # Calculate text position\n",
    "            text_x, text_y = x1 + 5, y1 + 25\n",
    "\n",
    "            # Draw the outline text (white border)\n",
    "            cv2.putText(image, label, (text_x, text_y), font, font_scale, outline_color, thickness + 2)\n",
    "\n",
    "            # Draw the actual text (red color)\n",
    "            cv2.putText(image, label, (text_x, text_y), font, font_scale, text_color, thickness)\n",
    "\n",
    "\n",
    "    return image\n",
    "\n",
    "# Example usage\n",
    "\n",
    "grid_size = 128  # Change to 64 for smaller grids\n",
    "for image_path in tqdm(glob(\"raw_img/*\")):\n",
    "    output_image = draw_grid_with_labels(image_path, grid_size)\n",
    "    cv2.imwrite(f\"grid_img/{image_path.split('/')[-1]}\", output_image)"
   ]
  },
  {
   "cell_type": "code",
   "execution_count": null,
   "metadata": {},
   "outputs": [],
   "source": []
  }
 ],
 "metadata": {
  "kernelspec": {
   "display_name": ".env",
   "language": "python",
   "name": "python3"
  },
  "language_info": {
   "codemirror_mode": {
    "name": "ipython",
    "version": 3
   },
   "file_extension": ".py",
   "mimetype": "text/x-python",
   "name": "python",
   "nbconvert_exporter": "python",
   "pygments_lexer": "ipython3",
   "version": "3.11.10"
  }
 },
 "nbformat": 4,
 "nbformat_minor": 2
}
